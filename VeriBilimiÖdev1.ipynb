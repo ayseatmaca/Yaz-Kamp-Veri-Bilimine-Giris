{
 "cells": [
  {
   "cell_type": "markdown",
   "id": "f6587b1e-1314-4cc3-8227-32c4a2e6aad0",
   "metadata": {},
   "source": [
    "# Bölüm 1: Veri Tipleri"
   ]
  },
  {
   "cell_type": "markdown",
   "id": "a31d4ec1-50ee-4f35-8926-e05da6d96348",
   "metadata": {},
   "source": [
    "# 1)"
   ]
  },
  {
   "cell_type": "code",
   "execution_count": 3,
   "id": "60df0b38-e2a3-4c20-b700-760530f2e9f9",
   "metadata": {},
   "outputs": [
    {
     "name": "stdin",
     "output_type": "stream",
     "text": [
      "Adınızı giriniz:  Ayşe\n",
      "Yaşınızı giriniz:  21\n",
      "Boyunuzu giriniz (metre cinsinden):  160\n"
     ]
    },
    {
     "name": "stdout",
     "output_type": "stream",
     "text": [
      "Merhaba Ayşe, 21 yaşındasınız ve boyunuz 160.00 metredir.\n"
     ]
    }
   ],
   "source": [
    "ad = input(\"Adınızı giriniz: \")\n",
    "yas = int(input(\"Yaşınızı giriniz: \"))\n",
    "boy = float(input(\"Boyunuzu giriniz (metre cinsinden): \"))\n",
    "print(f\"Merhaba {ad}, {yas} yaşındasınız ve boyunuz {boy:.2f} metredir.\")"
   ]
  },
  {
   "cell_type": "markdown",
   "id": "1bc63a2d-5efb-47e9-88fd-774c65a450d1",
   "metadata": {},
   "source": [
    "# 2)"
   ]
  },
  {
   "cell_type": "code",
   "execution_count": 5,
   "id": "0476f469-af9b-4ddf-9cf8-9687184843d2",
   "metadata": {},
   "outputs": [
    {
     "name": "stdin",
     "output_type": "stream",
     "text": [
      "Matematik notunu giriniz:  90\n",
      "Fizik notunu giriniz:  100\n",
      "Kimya notunu giriniz:  80\n"
     ]
    },
    {
     "name": "stdout",
     "output_type": "stream",
     "text": [
      "Matematik: 90, Fizik: 100, Kimya: 80\n",
      "Not ortalamanız: 90.00\n"
     ]
    }
   ],
   "source": [
    "matematik = int(input(\"Matematik notunu giriniz: \"))\n",
    "fizik = int(input(\"Fizik notunu giriniz: \"))\n",
    "kimya = int(input(\"Kimya notunu giriniz: \"))\n",
    "ortalama = (matematik + fizik + kimya) / 3\n",
    "print(f\"Matematik: {matematik}, Fizik: {fizik}, Kimya: {kimya}\")\n",
    "print(f\"Not ortalamanız: {ortalama:.2f}\")"
   ]
  },
  {
   "cell_type": "markdown",
   "id": "c7677fa5-6893-4ec7-bfb9-a9149fb3c3f1",
   "metadata": {},
   "source": [
    "# 3)"
   ]
  },
  {
   "cell_type": "code",
   "execution_count": 10,
   "id": "a8c8e8c7-233b-4ab3-b98d-9cc33eee974b",
   "metadata": {},
   "outputs": [
    {
     "name": "stdin",
     "output_type": "stream",
     "text": [
      "Bir metin giriniz:  Merhaba Dünya\n"
     ]
    },
    {
     "name": "stdout",
     "output_type": "stream",
     "text": [
      "Girdiğiniz metin: Merhaba Dünya\n",
      "İlk karakter: M\n",
      "Son karakter: a\n",
      "Uzunluk: 13\n",
      "Ters çevrilmiş hali: aynüD abahreM\n"
     ]
    }
   ],
   "source": [
    "metin = input(\"Bir metin giriniz: \")\n",
    "ilk_karakter = metin[0]\n",
    "son_karakter = metin[-1]\n",
    "uzunluk = len(metin)\n",
    "ters = metin[::-1]\n",
    "print(f\"Girdiğiniz metin: {metin}\")\n",
    "print(f\"İlk karakter: {ilk_karakter}\")\n",
    "print(f\"Son karakter: {son_karakter}\")\n",
    "print(f\"Uzunluk: {uzunluk}\")\n",
    "print(f\"Ters çevrilmiş hali: {ters}\")"
   ]
  },
  {
   "cell_type": "markdown",
   "id": "9370956d-6e58-4a99-b7fe-6fb8163e1ffa",
   "metadata": {},
   "source": [
    "# Bölüm 2: Operatörler"
   ]
  },
  {
   "cell_type": "markdown",
   "id": "b9946ecb-9f04-49fe-8383-f0d7702769e9",
   "metadata": {},
   "source": [
    "# 4)"
   ]
  },
  {
   "cell_type": "code",
   "execution_count": 18,
   "id": "8a9bcfcb-1835-4745-b14f-77359a0c0ad1",
   "metadata": {},
   "outputs": [
    {
     "name": "stdin",
     "output_type": "stream",
     "text": [
      "Birinci sayıyı giriniz:  10\n",
      "İkinci sayıyı giriniz:  20\n"
     ]
    },
    {
     "name": "stdout",
     "output_type": "stream",
     "text": [
      "10.0 + 20.0 = 30.0\n",
      "10.0 - 20.0 = -10.0\n",
      "10.0 * 20.0 = 200.0\n",
      "10.0 / 20.0 = 0.5\n",
      "10.0 % 20.0 = 10.0\n"
     ]
    }
   ],
   "source": [
    "# Kullanıcıdan iki sayı alma\n",
    "sayi1 = float(input(\"Birinci sayıyı giriniz: \"))\n",
    "sayi2 = float(input(\"İkinci sayıyı giriniz: \"))\n",
    "\n",
    "# İşlemler\n",
    "toplama = sayi1 + sayi2\n",
    "cikarma = sayi1 - sayi2\n",
    "carpma = sayi1 * sayi2\n",
    "bolme = sayi1 / sayi2\n",
    "mod = sayi1 % sayi2\n",
    "\n",
    "# Sonuçları yazdırma\n",
    "print(f\"{sayi1} + {sayi2} = {toplama}\")\n",
    "print(f\"{sayi1} - {sayi2} = {cikarma}\")\n",
    "print(f\"{sayi1} * {sayi2} = {carpma}\")\n",
    "print(f\"{sayi1} / {sayi2} = {bolme}\")\n",
    "print(f\"{sayi1} % {sayi2} = {mod}\")"
   ]
  },
  {
   "cell_type": "markdown",
   "id": "623a60a1-a9bc-4ad0-b6a5-40639ae4689f",
   "metadata": {},
   "source": [
    "# 5)"
   ]
  },
  {
   "cell_type": "code",
   "execution_count": 21,
   "id": "2ed1ea26-3023-44b5-8093-d27d93edd4ce",
   "metadata": {},
   "outputs": [
    {
     "name": "stdin",
     "output_type": "stream",
     "text": [
      "Öğrencinin not ortalamasını giriniz:  20\n"
     ]
    },
    {
     "name": "stdout",
     "output_type": "stream",
     "text": [
      "Ortalamanız 20.00 → Kaldı ❌\n"
     ]
    }
   ],
   "source": [
    "# Öğrencinin ortalamasını al\n",
    "ortalama = float(input(\"Öğrencinin not ortalamasını giriniz: \"))\n",
    "\n",
    "# Karşılaştırma ve mantıksal operatör kullanarak kontrol et\n",
    "if ortalama > 50:\n",
    "    print(f\"Ortalamanız {ortalama:.2f} → Geçti ✅\")\n",
    "else:\n",
    "    print(f\"Ortalamanız {ortalama:.2f} → Kaldı ❌\")\n"
   ]
  },
  {
   "cell_type": "markdown",
   "id": "304dfc1f-956f-4fb0-9618-7f7aa597e259",
   "metadata": {},
   "source": [
    "# 6)"
   ]
  },
  {
   "cell_type": "code",
   "execution_count": 24,
   "id": "5a8ffcd5-add5-48d7-9560-32008a1541f3",
   "metadata": {},
   "outputs": [
    {
     "name": "stdin",
     "output_type": "stream",
     "text": [
      "Yaşınızı giriniz:  22\n"
     ]
    },
    {
     "name": "stdout",
     "output_type": "stream",
     "text": [
      "22 yaşındasınız → Ehliyet alabilirsiniz ✅\n"
     ]
    }
   ],
   "source": [
    "# Kullanıcıdan yaş alma\n",
    "yas = int(input(\"Yaşınızı giriniz: \"))\n",
    "\n",
    "# Koşul kontrolü\n",
    "if yas > 18:\n",
    "    print(f\"{yas} yaşındasınız → Ehliyet alabilirsiniz ✅\")\n",
    "else:\n",
    "    print(f\"{yas} yaşındasınız → Ehliyet alamazsınız ❌\")\n"
   ]
  },
  {
   "cell_type": "markdown",
   "id": "942d1d84-b5ee-409a-b574-8517fd4d140e",
   "metadata": {},
   "source": [
    "# 7)"
   ]
  },
  {
   "cell_type": "code",
   "execution_count": 31,
   "id": "15c4a25d-40ea-42fb-8abe-9e97eff0e929",
   "metadata": {},
   "outputs": [
    {
     "name": "stdin",
     "output_type": "stream",
     "text": [
      "Ürünün fiyatını giriniz (₺):  55\n",
      "İndirim oranını giriniz (%):  20\n"
     ]
    },
    {
     "name": "stdout",
     "output_type": "stream",
     "text": [
      "Ürünün normal fiyatı: 55.00 ₺\n",
      "İndirim oranı: %20.0\n",
      "İndirimli fiyat: 44.00 ₺\n"
     ]
    }
   ],
   "source": [
    "# Kullanıcıdan ürün fiyatı ve indirim oranı alma\n",
    "fiyat = float(input(\"Ürünün fiyatını giriniz (₺): \"))\n",
    "indirim_orani = float(input(\"İndirim oranını giriniz (%): \"))\n",
    "\n",
    "# İndirimli fiyat hesaplama\n",
    "indirimli_fiyat = fiyat - (fiyat * indirim_orani / 100)\n",
    "\n",
    "# Sonucu yazdırma\n",
    "print(f\"Ürünün normal fiyatı: {fiyat:.2f} ₺\")\n",
    "print(f\"İndirim oranı: %{indirim_orani}\")\n",
    "print(f\"İndirimli fiyat: {indirimli_fiyat:.2f} ₺\")\n"
   ]
  },
  {
   "cell_type": "markdown",
   "id": "c4e7ab67-83d2-4675-982b-7eca31b17fdd",
   "metadata": {},
   "source": [
    "# 8)"
   ]
  },
  {
   "cell_type": "code",
   "execution_count": 34,
   "id": "1a6761a5-e459-4f4c-a4a0-526ec5a4a78f",
   "metadata": {},
   "outputs": [
    {
     "name": "stdout",
     "output_type": "stream",
     "text": [
      "a AND b → False\n",
      "a OR b  → True\n",
      "NOT a   → False\n",
      "NOT b   → True\n",
      "Yaş > 18 AND ehliyet → True\n",
      "Yaş > 18 OR ehliyet  → True\n",
      "NOT ehliyet → False\n"
     ]
    }
   ],
   "source": [
    "# True ve False değerlerini içeren değişkenler\n",
    "a = True\n",
    "b = False\n",
    "\n",
    "# Mantıksal operatör örnekleri\n",
    "print(f\"a AND b → {a and b}\")   # İkisi de True ise True\n",
    "print(f\"a OR b  → {a or b}\")    # Biri True ise True\n",
    "print(f\"NOT a   → {not a}\")     # True ise False, False ise True\n",
    "print(f\"NOT b   → {not b}\")     # False olduğu için True\n",
    "\n",
    "# Daha anlamlı örnek\n",
    "yas = 20\n",
    "ehliyet = True\n",
    "\n",
    "print(f\"Yaş > 18 AND ehliyet → {yas > 18 and ehliyet}\")  # İkisi de doğru → True\n",
    "print(f\"Yaş > 18 OR ehliyet  → {yas > 18 or ehliyet}\")   # Biri doğru → True\n",
    "print(f\"NOT ehliyet → {not ehliyet}\")                    # ehliyet True → False\n"
   ]
  },
  {
   "cell_type": "markdown",
   "id": "ec70ba0d-b8b4-47bb-a4a1-2dab58c783d7",
   "metadata": {},
   "source": [
    "# Bölüm 3: Mini Proje"
   ]
  },
  {
   "cell_type": "markdown",
   "id": "04d8eb5d-a765-42b3-bc46-451f818a9775",
   "metadata": {},
   "source": [
    "# 9)"
   ]
  },
  {
   "cell_type": "code",
   "execution_count": 38,
   "id": "aa8c41cc-62f2-4fd1-8a89-96821a539833",
   "metadata": {},
   "outputs": [
    {
     "name": "stdin",
     "output_type": "stream",
     "text": [
      "1. ürünün fiyatını giriniz (₺):  10\n",
      "2. ürünün fiyatını giriniz (₺):  20\n",
      "3. ürünün fiyatını giriniz (₺):  100\n"
     ]
    },
    {
     "name": "stdout",
     "output_type": "stream",
     "text": [
      "Toplam fiyat: 130.00 ₺ → İndirim uygulanmadı.\n",
      "Ödenecek tutar: 130.00 ₺\n"
     ]
    }
   ],
   "source": [
    "# Kullanıcıdan 3 ürünün fiyatını alma\n",
    "urun1 = float(input(\"1. ürünün fiyatını giriniz (₺): \"))\n",
    "urun2 = float(input(\"2. ürünün fiyatını giriniz (₺): \"))\n",
    "urun3 = float(input(\"3. ürünün fiyatını giriniz (₺): \"))\n",
    "\n",
    "# Toplam fiyat\n",
    "toplam = urun1 + urun2 + urun3\n",
    "\n",
    "# İndirim kontrolü\n",
    "if toplam > 200:\n",
    "    son_fiyat = toplam - (toplam * 0.10)  # %10 indirim\n",
    "    print(f\"Toplam fiyat: {toplam:.2f} ₺ → %10 indirim uygulandı!\")\n",
    "else:\n",
    "    son_fiyat = toplam\n",
    "    print(f\"Toplam fiyat: {toplam:.2f} ₺ → İndirim uygulanmadı.\")\n",
    "\n",
    "# Son fiyatı yazdırma\n",
    "print(f\"Ödenecek tutar: {son_fiyat:.2f} ₺\")\n"
   ]
  },
  {
   "cell_type": "markdown",
   "id": "11d9b16c-1b56-41fc-9646-6c27b4c82df2",
   "metadata": {},
   "source": [
    "# 10)"
   ]
  },
  {
   "cell_type": "code",
   "execution_count": 43,
   "id": "0a923dac-98b2-4ee3-b630-4ae82f918d0d",
   "metadata": {},
   "outputs": [
    {
     "name": "stdin",
     "output_type": "stream",
     "text": [
      "Doğum yılınızı giriniz:  2004\n"
     ]
    },
    {
     "name": "stdout",
     "output_type": "stream",
     "text": [
      "21 yaşındasınız → Yetişkinsiniz 👩👨\n"
     ]
    }
   ],
   "source": [
    "# Kullanıcıdan doğum yılı alma\n",
    "dogum_yili = int(input(\"Doğum yılınızı giriniz: \"))\n",
    "\n",
    "# Güncel yılı direkt değişken olarak tanımlıyoruz (örnek: 2025)\n",
    "guncel_yil = 2025\n",
    "\n",
    "# Yaş hesaplama\n",
    "yas = guncel_yil - dogum_yili\n",
    "\n",
    "# Yaş kontrolü\n",
    "if yas >= 0 and yas <= 12:\n",
    "    print(f\"{yas} yaşındasınız → Çocuksunuz 👶\")\n",
    "elif yas >= 13 and yas <= 17:\n",
    "    print(f\"{yas} yaşındasınız → Ergensiniz 👦👧\")\n",
    "elif yas >= 18:\n",
    "    print(f\"{yas} yaşındasınız → Yetişkinsiniz 👩👨\")\n",
    "else:\n",
    "    print(\"Geçerli bir doğum yılı girmediniz ❌\")\n"
   ]
  },
  {
   "cell_type": "markdown",
   "id": "f79edb08-ef13-4ae4-93f8-eb580071d345",
   "metadata": {},
   "source": [
    "# AYŞE ATMACA"
   ]
  },
  {
   "cell_type": "code",
   "execution_count": null,
   "id": "b4827ee9-751e-4123-bee6-4f0f99afa276",
   "metadata": {},
   "outputs": [],
   "source": []
  }
 ],
 "metadata": {
  "kernelspec": {
   "display_name": "Python 3 (ipykernel)",
   "language": "python",
   "name": "python3"
  },
  "language_info": {
   "codemirror_mode": {
    "name": "ipython",
    "version": 3
   },
   "file_extension": ".py",
   "mimetype": "text/x-python",
   "name": "python",
   "nbconvert_exporter": "python",
   "pygments_lexer": "ipython3",
   "version": "3.12.7"
  }
 },
 "nbformat": 4,
 "nbformat_minor": 5
}
